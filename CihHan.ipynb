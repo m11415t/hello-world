{
  "nbformat": 4,
  "nbformat_minor": 0,
  "metadata": {
    "colab": {
      "name": "CihHan.ipynb",
      "provenance": [],
      "collapsed_sections": [],
      "authorship_tag": "ABX9TyPnFOxlcwz7mUmPIOu0bVM/",
      "include_colab_link": true
    },
    "kernelspec": {
      "name": "python3",
      "display_name": "Python 3"
    }
  },
  "cells": [
    {
      "cell_type": "markdown",
      "metadata": {
        "id": "view-in-github",
        "colab_type": "text"
      },
      "source": [
        "<a href=\"https://colab.research.google.com/github/m11415t/hello-world/blob/main/CihHan.ipynb\" target=\"_parent\"><img src=\"https://colab.research.google.com/assets/colab-badge.svg\" alt=\"Open In Colab\"/></a>"
      ]
    },
    {
      "cell_type": "code",
      "metadata": {
        "colab": {
          "base_uri": "https://localhost:8080/"
        },
        "id": "tut3Ugz6t8Oy",
        "outputId": "898cb85e-f528-4c21-ff43-f40b0a3d32ea"
      },
      "source": [
        "UserName = \"Hi, my name is Mia-Zoe, LEE. I have a cat, Mona.\"\r\n",
        "UserName = UserName.split(\",\")\r\n",
        "Find_Name = UserName[2]\r\n",
        "Last_Name = Find_Name[:4]\r\n",
        "#print(Last_Name)\r\n",
        "firstname = UserName[1]\r\n",
        "firstname = firstname[11:19]\r\n",
        "#print(firstname)\r\n",
        "painting = UserName[3]\r\n",
        "painting_Name = painting[1:5]\r\n",
        "#print(painting_Name)\r\n",
        "age = 30.0\r\n",
        "quantity = 2.0\r\n",
        "txt = \"This is\" + Last_Name + firstname.upper() + \", and she is {} years old, like {} paintings of \" + painting_Name + \" Lisa.\"\r\n",
        "if 2 == 2:\r\n",
        "  print (txt.format(int(age), int(quantity)))\r\n",
        "else:\r\n",
        "  print(firstname + \"\\'s real name is \" + painting_Name + \" Lisa.\")\r\n"
      ],
      "execution_count": null,
      "outputs": [
        {
          "output_type": "stream",
          "text": [
            "This is LEE MIA-ZOE, and she is 30 years old, like 2 paintings of Mona Lisa.\n"
          ],
          "name": "stdout"
        }
      ]
    },
    {
      "cell_type": "code",
      "metadata": {
        "colab": {
          "base_uri": "https://localhost:8080/"
        },
        "id": "rkr0FXEUjdOu",
        "outputId": "3962b43d-b736-4883-de9a-4cedccafe2a7"
      },
      "source": [
        "#assignment \r\n",
        "age = 31\r\n",
        "myage = 30\r\n",
        "if age > myage:\r\n",
        "  print (\"My age is 30.\")\r\n",
        "elif age == myage:\r\n",
        "  print (\"My age is not 31\")\r\n",
        "elif age < myage:\r\n",
        "  print (\"I am forever 21.\")\r\n",
        "else:\r\n",
        "  print (\"something\")"
      ],
      "execution_count": 42,
      "outputs": [
        {
          "output_type": "stream",
          "text": [
            "My age is 30.\n"
          ],
          "name": "stdout"
        }
      ]
    },
    {
      "cell_type": "code",
      "metadata": {
        "colab": {
          "base_uri": "https://localhost:8080/"
        },
        "id": "fCfBjw1SvwOs",
        "outputId": "b03e9823-5509-4d54-eda7-954abe98911c"
      },
      "source": [
        "#assignment \r\n",
        "realage = 30 # the value to change\r\n",
        "myage = 30 # in reality doesn't change\r\n",
        "#testing if it's equal to my age\r\n",
        "if realage > myage or realage < myage: #there are 2 conditions\r\n",
        "  print (\"My real age is striclty superior or inferior to my age.\")\r\n",
        "  if realage < myage:  #try to test \r\n",
        "    print (\"My real age is superior to my age.\")\r\n",
        "  else:   #dont need to put any condition here\r\n",
        "    print (\"My real age is inferior to my age.\")\r\n",
        "else:   #means it's equal to the age\r\n",
        "  print (\"My real age is equal to my age.\")\r\n",
        "\r\n",
        "#what is the other case, if there are more than 2 options DO ALL THE NESTED IF"
      ],
      "execution_count": 44,
      "outputs": [
        {
          "output_type": "stream",
          "text": [
            "My real age is equal to my age.\n"
          ],
          "name": "stdout"
        }
      ]
    },
    {
      "cell_type": "markdown",
      "metadata": {
        "id": "cigumDuToCf-"
      },
      "source": [
        "Homework 1 :\r\n",
        "Cakes - we need 4 cakes to feed all people in the room\r\n",
        "-> if there are more than 4 cakes, print that everybody is happy\r\n",
        "-> if there are less than 4, or 4, then we are not happy\r\n",
        "\r\n",
        "-> Do this program with method :\r\n",
        "--> if elif else\r\n",
        "--> if with nested if\r\n",
        "--> if with OR or AND conditions\r\n"
      ]
    },
    {
      "cell_type": "code",
      "metadata": {
        "colab": {
          "base_uri": "https://localhost:8080/"
        },
        "id": "9JzMf2h_5K0X",
        "outputId": "856c6afa-f70e-46b2-a305-e7fb3b44c29d"
      },
      "source": [
        "#elif else\r\n",
        "need_cakes = 4\r\n",
        "now_cakes = 4 \r\n",
        "if need_cakes < now_cakes:\r\n",
        "  print (\"Everybody is happy because we have enough of cakes.\") \r\n",
        "elif need_cakes > now_cakes:\r\n",
        "  print (\"We\\'re not happy because we\\'re short of cakes.\")\r\n",
        "else:\r\n",
        "  print (\"We\\'re not happy because there\\'re only 4 cakes.\")\r\n",
        "\r\n",
        "#nested if  \r\n",
        "if need_cakes > now_cakes or need_cakes == now_cakes:\r\n",
        "  print (\"We\\'re not happy at all\") \r\n",
        "  if need_cakes > now_cakes:\r\n",
        "    print (\" because it\\'s not enough.\")\r\n",
        "  else:\r\n",
        "    print (\" because people can\\'t get the sencond round.\")\r\n",
        "else:\r\n",
        "  print (\"Great! We have a lot of cakes.\") \r\n",
        "\r\n",
        "#another thought:\r\n",
        "if now_cakes <= 4:\r\n",
        "  print(\"Oh no...\")\r\n",
        "  if now_cakes < 4:\r\n",
        "    print(\"We need more!\")\r\n",
        "  else:\r\n",
        "    print(\"Not satisfied...\")\r\n",
        "else:\r\n",
        "  print (\"Supper!!\")\r\n",
        "\r\n",
        "#if with OR or AND conditions\r\n",
        "if need_cakes >= now_cakes:\r\n",
        "  print (\"We still need more cakes to feed people in the room.\")\r\n",
        "else:\r\n",
        "  print (\"Voila, we\\'re happy. Have some more!\")"
      ],
      "execution_count": 116,
      "outputs": [
        {
          "output_type": "stream",
          "text": [
            "We're not happy because there're only 4 cakes.\n",
            "We're not happy at all\n",
            " because people can't get the sencond round.\n",
            "Oh no...\n",
            "Not satisfied...\n",
            "We still need more cakes to feed people in the room.\n"
          ],
          "name": "stdout"
        }
      ]
    },
    {
      "cell_type": "markdown",
      "metadata": {
        "id": "9YX1x6f8vXKk"
      },
      "source": [
        "Homework 2:\r\n",
        "Cakes - we need 4 cakes to feed all people in the room\r\n",
        "-> if there are more than 4 cakes, print that everybody is happy\r\n",
        "-> if there are less than 4, or 4, then we are not happy\r\n",
        "\r\n",
        "-> Do this program with method :\r\n",
        "--> if elif else\r\n",
        "---> HOW many people can we feed more with the number of cakes in the room\r\n",
        "--> for example if there is 10 cakes, we can feed 6 more people"
      ]
    },
    {
      "cell_type": "code",
      "metadata": {
        "colab": {
          "base_uri": "https://localhost:8080/"
        },
        "id": "Jrt4Y-SS6F18",
        "outputId": "3b1ebca2-f4d3-4dfe-d047-3708b6b271e6"
      },
      "source": [
        "#elif else\r\n",
        "need_cakes = 4           #we need 4 cakes to feed all people in the room.\r\n",
        "now_cakes = 4           #currently we have _ cakes.\r\n",
        "people = 10 \r\n",
        "\r\n",
        "left = people - now_cakes         #to know how many cakes we still need .\r\n",
        "delight = people - need_cakes\r\n",
        "count = need_cakes - now_cakes    #gap btw need and have\r\n",
        "#calculate = now_cakes - need_cakes     \r\n",
        "\r\n",
        "txt = \"We\\'re happy because we have {} cakes to feed {} people.\"\r\n",
        "txtneed = \"We\\'re not happy. We need {} more.\"\r\n",
        "if need_cakes < now_cakes:\r\n",
        "  print (txt.format(now_cakes, people))  \r\n",
        "elif need_cakes > now_cakes:\r\n",
        "  print (txtneed.format(count))\r\n",
        "else:\r\n",
        "  print (\"We are not happy because there\\'re only 4 cakes.\") \r\n",
        "\r\n",
        "#How many people can we feed more with the number of cakes in the room\r\n",
        "txtless = \"Idealy to have {} more cakes so we can feed {} people.\" \r\n",
        "txtmore = \"There\\'re {} cakes so we can feed {} more people.\"\r\n",
        "if need_cakes >= now_cakes:\r\n",
        "  print (txtless.format(left, people))\r\n",
        "  if need_cakes > now_cakes:\r\n",
        "    print (\"Olala...\")\r\n",
        "  else:\r\n",
        "    print (\"I suppose less than 4 people want some cakes.\")\r\n",
        "else:\r\n",
        "  print (txtmore.format(now_cakes, delight))\r\n"
      ],
      "execution_count": 127,
      "outputs": [
        {
          "output_type": "stream",
          "text": [
            "We are not happy because there're only 4 cakes.\n",
            "Idealy to have 6 more cakes so we can feed 10 people.\n",
            "I suppose less than 4 people want some cakes.\n"
          ],
          "name": "stdout"
        }
      ]
    }
  ]
}
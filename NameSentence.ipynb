{
  "nbformat": 4,
  "nbformat_minor": 0,
  "metadata": {
    "colab": {
      "name": "NameSentence.ipynb",
      "provenance": [],
      "authorship_tag": "ABX9TyOCNSWUkOurli9nwUYFGXDP",
      "include_colab_link": true
    },
    "kernelspec": {
      "name": "python3",
      "display_name": "Python 3"
    }
  },
  "cells": [
    {
      "cell_type": "markdown",
      "metadata": {
        "id": "view-in-github",
        "colab_type": "text"
      },
      "source": [
        "<a href=\"https://colab.research.google.com/github/m11415t/hello-world/blob/main/NameSentence.ipynb\" target=\"_parent\"><img src=\"https://colab.research.google.com/assets/colab-badge.svg\" alt=\"Open In Colab\"/></a>"
      ]
    },
    {
      "cell_type": "code",
      "metadata": {
        "colab": {
          "base_uri": "https://localhost:8080/"
        },
        "id": "tut3Ugz6t8Oy",
        "outputId": "37adf9c6-abf2-4128-d912-05a6bb7331ad"
      },
      "source": [
        "UserName = \"Hi, my name is Cih-Han, LIN. I have a cat, Mona.\"\r\n",
        "UserName = UserName.split(\",\")\r\n",
        "Find_Name = UserName[2]\r\n",
        "Last_Name = Find_Name[:4]\r\n",
        "#print(Last_Name)\r\n",
        "firstname = UserName[1]\r\n",
        "firstname = firstname[11:19]\r\n",
        "#print(firstname)\r\n",
        "painting = UserName[3]\r\n",
        "painting_Name = painting[1:5]\r\n",
        "#print(painting_Name)\r\n",
        "age = 30.0\r\n",
        "quantity = 2.0\r\n",
        "txt = \"This is\" + Last_Name + firstname.upper() + \", and she is {} years old, like {} paintings of \" + painting_Name + \" Lisa.\"\r\n",
        "if 5>2:\r\n",
        "  print (txt.format(int(age), int(quantity)))"
      ],
      "execution_count": 70,
      "outputs": [
        {
          "output_type": "stream",
          "text": [
            "This is LIN CIH-HAN, and she is 30 years old, like 2 paintings of Mona Lisa.\n"
          ],
          "name": "stdout"
        }
      ]
    }
  ]
}